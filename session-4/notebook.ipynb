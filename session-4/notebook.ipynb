{
 "cells": [
  {
   "cell_type": "markdown",
   "metadata": {},
   "source": [
    "# Slot 4: Fine-Tuning\n",
    "\n",
    "It is divided into X parts\n",
    "\n",
    "1. Preparations\n",
    "2. The dataset\n",
    "    - Loading data\n",
    "    - Augmenting data\n",
    "4. Fine-tuning routine\n",
    "5. LORA - Benefits and usage"
   ]
  },
  {
   "cell_type": "markdown",
   "metadata": {},
   "source": [
    "1. Other showcases\n",
    "2. Fine-tuning (follow steps from slides)\n",
    "3. Show data set\n",
    "4. Show model\n",
    "5. Show and explain training parameters\n",
    "6. Fine-tune\n",
    "7. Result"
   ]
  },
  {
   "cell_type": "markdown",
   "metadata": {},
   "source": [
    "### Preparations\n",
    "Start with installing the packages necessary for the task"
   ]
  },
  {
   "cell_type": "code",
   "execution_count": null,
   "metadata": {},
   "outputs": [],
   "source": [
    "%pip install -r requirements.txt"
   ]
  },
  {
   "cell_type": "markdown",
   "metadata": {},
   "source": [
    "Import packages and load environment"
   ]
  },
  {
   "cell_type": "code",
   "execution_count": null,
   "metadata": {},
   "outputs": [],
   "source": [
    "import torch\n",
    "from datasets import load_dataset\n",
    "from transformers import ( \n",
    "    AutoTokenizer, \n",
    "    AutoModelForCausalLM,\n",
    "    TrainingArguments,\n",
    "    pipeline,\n",
    "    logging,\n",
    "    )\n",
    "from peft import LoraConfig, PeftModel\n",
    "from trl import SFTTrainer, DataCollatorForCompletionOnlyLM\n",
    "\n",
    "# Ignore warnings\n",
    "logging.set_verbosity(logging.CRITICAL)"
   ]
  },
  {
   "cell_type": "markdown",
   "metadata": {},
   "source": [
    "#### Load Model\n",
    "\n",
    "We will be using Llama 3.2 with 1 billion parameters. **Beware that you need to request access to it beforehand.**"
   ]
  },
  {
   "cell_type": "code",
   "execution_count": null,
   "metadata": {},
   "outputs": [],
   "source": [
    "#load tokenizer and model with QLoRA config\n",
    "# compute_dtype = getattr(torch, bnb_4bit_compute_dtype)\n",
    "\n",
    "# bnb_config = BitsAndBytesConfig(\n",
    "#     load_in_4bit = use_4bit,\n",
    "#     bnb_4bit_quant_type = bnb_4bit_quant_type,\n",
    "#     bnb_4bit_compute_dtype = compute_dtype,\n",
    "#     bnb_4bit_use_double_quant = use_nested_quant,)\n",
    "\n",
    "#checking GPU compatibility with bfloat16\n",
    "# if compute_dtype == torch.float16 and use_4bit:\n",
    "#     major, _ = torch.cuda.get_device_capability()\n",
    "#     if major >= 8:\n",
    "#         print(\"=\"*80)\n",
    "#         print(\"Your GPU supports bfloat16, you are getting accelerate training with bf16= True\")\n",
    "#         print(\"=\"*80)\n",
    "\n",
    "\n",
    "# Model to be used\n",
    "model_name = \"meta-llama/Llama-3.2-1B-Instruct\" # https://huggingface.co/meta-llama/Llama-3.2-1B-Instruct\n",
    "\n",
    "#Load LLama tokenizer\n",
    "tokenizer = AutoTokenizer.from_pretrained(model_name,trust_remote_code = True)\n",
    "tokenizer.pad_token = tokenizer.eos_token\n",
    "tokenizer.padding_side = \"right\"\n",
    "\n",
    "#load the entire model on the GPU\n",
    "device_map = {\"\":0}\n",
    "#load base model\n",
    "model = AutoModelForCausalLM.from_pretrained(\n",
    "    model_name,\n",
    "    # quantization_config = bnb_config,\n",
    "    device_map = device_map,\n",
    ")\n",
    "\n",
    "model.config.use_cache = False\n",
    "model.config.pretraining_tp = 1"
   ]
  },
  {
   "cell_type": "markdown",
   "metadata": {},
   "source": [
    "### Showcase: Base model"
   ]
  },
  {
   "cell_type": "markdown",
   "metadata": {},
   "source": [
    "Here we check the result of the base model on our query.\n",
    "We use the text generation pipeline to create a SPARQL query on the DBLP knowledge graph."
   ]
  },
  {
   "cell_type": "code",
   "execution_count": null,
   "metadata": {},
   "outputs": [],
   "source": [
    "# Run text generation pipeline with our next model\n",
    "prompt = \"Show the Wikidata ID of the person Robert Schober. His entity ID is <https://dblp.org/pid/95/2265>. Provide only a SPARQL query as answer.\"\n",
    "pipe = pipeline(task=\"text-generation\", model=model, tokenizer=tokenizer, max_length=200)\n",
    "result = pipe(f\"{prompt}\")\n",
    "print(result[0]['generated_text'])"
   ]
  },
  {
   "cell_type": "markdown",
   "metadata": {},
   "source": [
    "### Showcase: Fine-tuning"
   ]
  },
  {
   "cell_type": "markdown",
   "metadata": {},
   "source": [
    "First, we load the data set to be used."
   ]
  },
  {
   "cell_type": "code",
   "execution_count": null,
   "metadata": {},
   "outputs": [],
   "source": [
    "dataset_name = \"awalesushil/DBLP-QuAD\" # https://huggingface.co/datasets/awalesushil/DBLP-QuAD\n",
    "\n",
    "#load dataset\n",
    "dataset = load_dataset(dataset_name,split = \"train\")\n",
    "\n",
    "def formatting_prompts_func(example):\n",
    "    output_texts = []\n",
    "    for i in range(len(example['question'])):\n",
    "        text = f\"### Question: {example['question'][i]}\\n ### Answer: {example['query'][i]}\"\n",
    "        output_texts.append(text)\n",
    "    return output_texts\n",
    "\n",
    "response_template = \" ### Answer:\"\n",
    "collator = DataCollatorForCompletionOnlyLM(response_template, tokenizer=tokenizer)"
   ]
  },
  {
   "cell_type": "markdown",
   "metadata": {},
   "source": [
    "Then we set all parameters necessary for fine-tuning"
   ]
  },
  {
   "cell_type": "code",
   "execution_count": null,
   "metadata": {},
   "outputs": [],
   "source": [
    "#output directory where the model predictions and checkpoints will be stored\n",
    "output_dir = \"./results\"\n",
    "\n",
    "#number of training epochs\n",
    "num_train_epochs = 5\n",
    "\n",
    "#enable fp16/bf16 training (set bf16 to True when using A100 GPU in google colab)\n",
    "fp16 = False\n",
    "bf16 = True\n",
    "\n",
    "#batch size per GPU for training\n",
    "per_device_train_batch_size = 4\n",
    "\n",
    "#batch size per GPU for evaluation\n",
    "per_device_eval_batch_size = 4\n",
    "\n",
    "#gradient accumulation steps - No of update steps\n",
    "gradient_accumulation_steps = 1\n",
    "\n",
    "#learning rate\n",
    "learning_rate = 2e-4\n",
    "\n",
    "#weight decay\n",
    "weight_decay = 0.001\n",
    "\n",
    "#Gradient clipping(max gradient Normal)\n",
    "max_grad_norm = 0.3\n",
    "\n",
    "#optimizer to use\n",
    "optim = \"paged_adamw_32bit\"\n",
    "\n",
    "#learning rate scheduler\n",
    "lr_scheduler_type = \"cosine\"\n",
    "\n",
    "#seed for reproducibility\n",
    "seed = 1\n",
    "\n",
    "#Number of training steps\n",
    "max_steps = -1\n",
    "\n",
    "#Ratio of steps for linear warmup\n",
    "warmup_ratio = 0.03\n",
    "\n",
    "#group sequnces into batches with same length\n",
    "group_by_length = True\n",
    "\n",
    "#save checkpoint every X updates steps\n",
    "save_steps = 0\n",
    "\n",
    "#Log at every X updates steps\n",
    "logging_steps = 50"
   ]
  },
  {
   "cell_type": "markdown",
   "metadata": {},
   "source": [
    "#### PEFT Config"
   ]
  },
  {
   "cell_type": "markdown",
   "metadata": {},
   "source": [
    "As we use LORA, we need to set up some additional parameters"
   ]
  },
  {
   "cell_type": "code",
   "execution_count": null,
   "metadata": {},
   "outputs": [],
   "source": [
    "# LORA\n",
    "lora_r = 64 #lora attention dimension/ rank\n",
    "lora_alpha = 16 #lora scaling parameter\n",
    "lora_dropout = 0.1 #lora dropout probability\n",
    "\n",
    "# BitsAndBytes for QLORA\n",
    "# use_4bit = True\n",
    "# bnb_4bit_compute_dtype = \"float16\"\n",
    "# bnb_4bit_quant_type = \"nf4\"\n",
    "# use_nested_quant = False\n",
    "\n",
    "#Load LoRA config\n",
    "peft_config = LoraConfig(\n",
    "    lora_alpha = lora_alpha,\n",
    "    lora_dropout = lora_dropout,\n",
    "    r  = lora_r,\n",
    "    bias = \"none\",\n",
    "    task_type = \"CAUSAL_LM\",\n",
    ")"
   ]
  },
  {
   "cell_type": "markdown",
   "metadata": {},
   "source": [
    "### Training"
   ]
  },
  {
   "cell_type": "code",
   "execution_count": null,
   "metadata": {},
   "outputs": [],
   "source": [
    "#Set Training parameters\n",
    "training_arguments = TrainingArguments(\n",
    "    output_dir = output_dir,\n",
    "    num_train_epochs = num_train_epochs,\n",
    "    per_device_train_batch_size = per_device_train_batch_size,\n",
    "    gradient_accumulation_steps = gradient_accumulation_steps,\n",
    "    optim = optim,\n",
    "    save_steps = save_steps,\n",
    "    logging_steps = logging_steps,\n",
    "    learning_rate = learning_rate,\n",
    "    # fp16 = fp16,\n",
    "    # bf16 = bf16,\n",
    "    max_grad_norm = max_grad_norm,\n",
    "    weight_decay = weight_decay,\n",
    "    lr_scheduler_type = lr_scheduler_type,\n",
    "    warmup_ratio = warmup_ratio,\n",
    "    group_by_length = group_by_length,\n",
    "    max_steps = max_steps,\n",
    "    report_to = \"tensorboard\",\n",
    ")\n",
    "\n",
    "\n",
    "#maximum sequence length to use\n",
    "max_seq_length = 1024 # used to be None\n",
    "packing = False # Same as default\n",
    "#SFT Trainer\n",
    "trainer = SFTTrainer(\n",
    "    model = model,\n",
    "    train_dataset = dataset,\n",
    "    peft_config = peft_config,\n",
    "    # dataset_text_field = \"text\",\n",
    "    max_seq_length = max_seq_length,\n",
    "    args = training_arguments,\n",
    "    tokenizer = tokenizer,\n",
    "    packing = False,\n",
    "    formatting_func=formatting_prompts_func,\n",
    "    data_collator=collator,\n",
    ")\n",
    "\n",
    "#Start training\n",
    "trainer.train()"
   ]
  },
  {
   "cell_type": "markdown",
   "metadata": {},
   "source": [
    "#### Saving the model and Testing\n",
    "Use the text generation pipeline to ask questions like “What is Machine Learning? etc.” Note that I’m formatting the input to match Llama 2 prompt template."
   ]
  },
  {
   "cell_type": "code",
   "execution_count": null,
   "metadata": {},
   "outputs": [],
   "source": [
    "new_model = f\"{model_name}-finetuned-DBLP-QUAD2\" # name of the fine-tuned model\n",
    "\n",
    "#save trained model\n",
    "trainer.model.save_pretrained(f\"results/finetuned models/{new_model}\")"
   ]
  },
  {
   "cell_type": "code",
   "execution_count": null,
   "metadata": {},
   "outputs": [],
   "source": [
    "model = AutoModelForCausalLM.from_pretrained(f'results/finetuned models/{new_model}', device_map=device_map)\n",
    "# Run text generation pipeline with our next model\n",
    "prompt = \"Show the Wikidata ID of the person Robert Schober. Write a SPARQL query. His entity ID is <https://dblp.org/pid/95/2265>.\"\n",
    "pipe = pipeline(task=\"text-generation\", model=model, tokenizer=tokenizer, max_length=200)\n",
    "result = pipe(f\"### Question: {prompt}\")\n",
    "print(result[0]['generated_text'])"
   ]
  }
 ],
 "metadata": {
  "kernelspec": {
   "display_name": "Python 3 (ipykernel)",
   "language": "python",
   "name": "python3"
  },
  "language_info": {
   "codemirror_mode": {
    "name": "ipython",
    "version": 3
   },
   "file_extension": ".py",
   "mimetype": "text/x-python",
   "name": "python",
   "nbconvert_exporter": "python",
   "pygments_lexer": "ipython3",
   "version": "3.10.12"
  }
 },
 "nbformat": 4,
 "nbformat_minor": 4
}
