{
 "cells": [
  {
   "cell_type": "markdown",
   "metadata": {},
   "source": [
    "# Slot 4: Fine-Tuning\n",
    "\n",
    "This is the notebook for the last slot of the tutorial KE-RAG. Here, we will fine-tune a pretrained LLM using RLHF, reinforcement learning from human feedback."
   ]
  },
  {
   "cell_type": "markdown",
   "metadata": {},
   "source": [
    "### Preparations\n",
    "Start with installing the packages necessary for the task"
   ]
  },
  {
   "cell_type": "code",
   "execution_count": null,
   "metadata": {},
   "outputs": [],
   "source": [
    "%pip install -r requirements.txt"
   ]
  },
  {
   "cell_type": "markdown",
   "metadata": {},
   "source": [
    "Import packages and load environment"
   ]
  },
  {
   "cell_type": "code",
   "execution_count": null,
   "metadata": {},
   "outputs": [],
   "source": [
    "import torch\n",
    "from datasets import load_dataset\n",
    "from transformers import ( \n",
    "    AutoTokenizer, \n",
    "    AutoModelForCausalLM,\n",
    "    pipeline,\n",
    "    logging,\n",
    "    )\n",
    "from peft import LoraConfig\n",
    "from trl import SFTTrainer, SFTConfig, DataCollatorForCompletionOnlyLM\n",
    "\n",
    "# Ignore warnings\n",
    "logging.set_verbosity(logging.CRITICAL)"
   ]
  },
  {
   "cell_type": "markdown",
   "metadata": {},
   "source": [
    "#### Load Model\n",
    "\n",
    "We will be using [Llama 3.2 with 1 billion parameters](https://huggingface.co/meta-llama/Llama-3.2-1B-Instruct). **Beware that you need to request access beforehand.**"
   ]
  },
  {
   "cell_type": "code",
   "execution_count": null,
   "metadata": {},
   "outputs": [],
   "source": [
    "# Model to be used\n",
    "model_name = \"meta-llama/Llama-3.2-1B-Instruct\" # https://huggingface.co/meta-llama/Llama-3.2-1B-Instruct\n",
    "\n",
    "#Load LLama tokenizer\n",
    "tokenizer = AutoTokenizer.from_pretrained(model_name,trust_remote_code = True)\n",
    "tokenizer.pad_token = tokenizer.eos_token\n",
    "tokenizer.padding_side = \"right\"\n",
    "\n",
    "# save the terminator tokens for use in the pipe\n",
    "terminators = [\n",
    "    tokenizer.eos_token_id,\n",
    "    tokenizer.convert_tokens_to_ids(\"<|eot_id|>\")\n",
    "]\n",
    "\n",
    "#load the entire model on the GPU\n",
    "device_map = {\"\":0}\n",
    "#load base model\n",
    "model = AutoModelForCausalLM.from_pretrained(\n",
    "    model_name,\n",
    "    # quantization_config = bnb_config, # Quantization option. If needed, this needs to be invoked *after* the bnb configuration\n",
    "    device_map = device_map,\n",
    "    torch_dtype = torch.bfloat16\n",
    ")\n",
    "\n",
    "model.config.use_cache = False\n",
    "model.config.pretraining_tp = 1"
   ]
  },
  {
   "cell_type": "markdown",
   "metadata": {},
   "source": [
    "### Showcase: Base model"
   ]
  },
  {
   "cell_type": "markdown",
   "metadata": {},
   "source": [
    "Here we check the result of the base model on our query.\n",
    "We use the text generation pipeline to create a SPARQL query on the DBLP knowledge graph."
   ]
  },
  {
   "cell_type": "code",
   "execution_count": null,
   "metadata": {},
   "outputs": [],
   "source": [
    "# Run text generation pipeline with our next model\n",
    "pipe = pipeline(\n",
    "    task=\"text-generation\",\n",
    "    model=model,\n",
    "    tokenizer=tokenizer,\n",
    ")\n",
    "\n",
    "messages = [\n",
    "    {\"role\": \"system\", \"content\": \"You are a helpful chatbot, that answers only with SPARQL queries.\"},\n",
    "    {\"role\": \"user\", \"content\": \"Show the Wikidata ID of the person Robert Schober. His entity ID is <https://dblp.org/pid/95/2265>.\"},\n",
    "]\n",
    "\n",
    "outputs = pipe(\n",
    "    messages,\n",
    "    max_new_tokens=256,\n",
    "    eos_token_id = terminators,\n",
    ")\n",
    "print(outputs[0]['generated_text'][-1][\"content\"])\n"
   ]
  },
  {
   "cell_type": "markdown",
   "metadata": {},
   "source": [
    "### Showcase: Fine-tuning"
   ]
  },
  {
   "cell_type": "markdown",
   "metadata": {},
   "source": [
    "First, we load the dataset to be used. For our example task we use [DBLP-QuAD](https://huggingface.co/datasets/awalesushil/DBLP-QuAD), a scholarly knowledge graph question answering dataset with 10,000 question - SPARQL query pairs. As the name indicates it targets the DBLP knowledge graph."
   ]
  },
  {
   "cell_type": "code",
   "execution_count": null,
   "metadata": {},
   "outputs": [],
   "source": [
    "dataset_name = \"awalesushil/DBLP-QuAD\" # https://huggingface.co/datasets/awalesushil/DBLP-QuAD\n",
    "\n",
    "#load dataset\n",
    "dataset = load_dataset(dataset_name,split = \"train\")\n",
    "\n",
    "def formatting_prompts_func(example):\n",
    "    output_texts = []\n",
    "    for i in range(len(example['question'])):\n",
    "        text = f\"### Question: {example['question'][i]}\\n ### Answer: {example['query'][i]}\"\n",
    "        output_texts.append(text)\n",
    "    return output_texts\n",
    "\n",
    "response_template = \" ### Answer:\"\n",
    "collator = DataCollatorForCompletionOnlyLM(response_template, tokenizer=tokenizer)"
   ]
  },
  {
   "cell_type": "markdown",
   "metadata": {},
   "source": [
    "### Training"
   ]
  },
  {
   "cell_type": "markdown",
   "metadata": {},
   "source": [
    "As we use LORA, we need to set up some additional parameters for it. Commented out you can see the parameters for QLORA, a quantization method. We do not use it for now."
   ]
  },
  {
   "cell_type": "code",
   "execution_count": null,
   "metadata": {},
   "outputs": [],
   "source": [
    "# BitsAndBytes for QLORA\n",
    "# use_4bit = True\n",
    "# bnb_4bit_compute_dtype = \"float16\"\n",
    "# bnb_4bit_quant_type = \"nf4\"\n",
    "# use_nested_quant = False\n",
    "\n",
    "#load tokenizer and model with QLoRA config\n",
    "# compute_dtype = getattr(torch, bnb_4bit_compute_dtype)\n",
    "\n",
    "# bnb_config = BitsAndBytesConfig(\n",
    "#     load_in_4bit = use_4bit,\n",
    "#     bnb_4bit_quant_type = bnb_4bit_quant_type,\n",
    "#     bnb_4bit_compute_dtype = compute_dtype,\n",
    "#     bnb_4bit_use_double_quant = use_nested_quant,)\n",
    "\n",
    "#checking GPU compatibility with bfloat16\n",
    "# if compute_dtype == torch.float16 and use_4bit:\n",
    "#     major, _ = torch.cuda.get_device_capability()\n",
    "#     if major >= 8:\n",
    "#         print(\"=\"*80)\n",
    "#         print(\"Your GPU supports bfloat16, you are getting accelerate training with bf16= True\")\n",
    "#         print(\"=\"*80)\n",
    "\n",
    "\n",
    "#Load LoRA config\n",
    "peft_config = LoraConfig(\n",
    "    r  = 16, #attention dimension/ rank\n",
    "    lora_alpha = 32, #scaling parameter\n",
    "    lora_dropout = 0.05, #dropout probability\n",
    "    bias = \"none\",\n",
    "    task_type = \"CAUSAL_LM\",\n",
    ")"
   ]
  },
  {
   "cell_type": "markdown",
   "metadata": {},
   "source": [
    "Then we set all parameters necessary for fine-tuning.\n",
    "For futher information on supervised fune-tuning, please refer to [the documentation at huggingface.co](https://huggingface.co/docs/trl/en/sft_trainer)."
   ]
  },
  {
   "cell_type": "code",
   "execution_count": null,
   "metadata": {},
   "outputs": [],
   "source": [
    "#Set Training parameters\n",
    "training_arguments = SFTConfig(\n",
    "    output_dir = \"./results\",\n",
    "    num_train_epochs = 5,\n",
    "    per_device_train_batch_size = 4,\n",
    "    optim = \"adamw_torch\", # for QLORA use\"paged_adamw_32bit\"\n",
    "    save_steps = 0,\n",
    "    logging_steps = 50,\n",
    "    learning_rate = 2e-4,\n",
    "    max_grad_norm = 0.3,\n",
    "    weight_decay = 0.001,\n",
    "    lr_scheduler_type = \"cosine\",\n",
    "    warmup_ratio = 0.03,\n",
    "    group_by_length = True,\n",
    "    # report_to = \"tensorboard\", # if you want reporting, you need to install it first\n",
    ")\n",
    "\n",
    "\n",
    "#SFT Trainer\n",
    "trainer = SFTTrainer(\n",
    "    model = model,\n",
    "    train_dataset = dataset,\n",
    "    peft_config = peft_config,\n",
    "    # dataset_text_field = \"text\",\n",
    "    max_seq_length = 1024,\n",
    "    args = training_arguments,\n",
    "    tokenizer = tokenizer,\n",
    "    packing = False,\n",
    "    formatting_func=formatting_prompts_func,\n",
    "    # data_collator=collator,\n",
    ")\n",
    "\n",
    "#Start training\n",
    "trainer.train()"
   ]
  },
  {
   "cell_type": "markdown",
   "metadata": {},
   "source": [
    "#### Saving the model and Testing\n",
    "Use the text generation pipeline once again but this time with the fine-tuned model. Note that the prompt stays the same."
   ]
  },
  {
   "cell_type": "code",
   "execution_count": null,
   "metadata": {},
   "outputs": [],
   "source": [
    "new_model = f\"{model_name}-finetuned-DBLP-QUAD2\" # name of the fine-tuned model\n",
    "\n",
    "#save trained model\n",
    "trainer.model.save_pretrained(f\"results/finetuned models/{new_model}\")"
   ]
  },
  {
   "cell_type": "code",
   "execution_count": null,
   "metadata": {},
   "outputs": [],
   "source": [
    "# model = AutoModelForCausalLM.from_pretrained(f'results/finetuned models/{new_model}', device_map=device_map)\n",
    "# Run text generation pipeline with our next model\n",
    "pipe = pipeline(\n",
    "    task=\"text-generation\",\n",
    "    model=model,\n",
    "    tokenizer=tokenizer,\n",
    ")\n",
    "\n",
    "messages = [\n",
    "    {\"role\": \"system\", \"content\": \"You are a helpful chatbot, that answers only with SPARQL queries.\"},\n",
    "    {\"role\": \"user\", \"content\": \"Show the Wikidata ID of the person Robert Schober. His entity ID is <https://dblp.org/pid/95/2265>.\"},\n",
    "]\n",
    "\n",
    "outputs = pipe(\n",
    "    messages,\n",
    "    max_new_tokens=256,\n",
    "    eos_token_id = terminators,\n",
    ")\n",
    "print(outputs[0]['generated_text'][-1][\"content\"])\n"
   ]
  }
 ],
 "metadata": {
  "kernelspec": {
   "display_name": ".venv",
   "language": "python",
   "name": "python3"
  },
  "language_info": {
   "codemirror_mode": {
    "name": "ipython",
    "version": 3
   },
   "file_extension": ".py",
   "mimetype": "text/x-python",
   "name": "python",
   "nbconvert_exporter": "python",
   "pygments_lexer": "ipython3",
   "version": "3.12.7"
  }
 },
 "nbformat": 4,
 "nbformat_minor": 4
}
