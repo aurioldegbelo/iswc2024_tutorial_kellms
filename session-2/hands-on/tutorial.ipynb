{
 "cells": [
  {
   "cell_type": "markdown",
   "metadata": {},
   "source": [
    "## Step 1: Install Dependencies"
   ]
  },
  {
   "cell_type": "code",
   "execution_count": 1,
   "metadata": {},
   "outputs": [],
   "source": [
    "from langchain_community.graphs import RdfGraph\n",
    "from langchain_openai import ChatOpenAI\n",
    "from qachain import GraphSparqlQAChain\n",
    "import os"
   ]
  },
  {
   "cell_type": "code",
   "execution_count": 2,
   "metadata": {},
   "outputs": [
    {
     "data": {
      "text/plain": [
       "'In the following, each IRI is followed by the local name and optionally its description in parentheses. \\nThe RDF graph supports the following node types:\\n<http://dbpedia.org/class/yago/Person100007846> (Person100007846, None), <http://dbpedia.org/class/yago/WikicatLivingPeople> (WikicatLivingPeople, None), <http://dbpedia.org/ontology/Species> (Species, None), <http://dbpedia.org/ontology/Eukaryote> (Eukaryote, None), <http://dbpedia.org/class/yago/CausalAgent100007347> (CausalAgent100007347, None), <http://dbpedia.org/ontology/Animal> (Animal, None), <http://dbpedia.org/class/yago/LivingThing100004258> (LivingThing100004258, None), <http://dbpedia.org/ontology/Person> (Person, None), <http://dbpedia.org/class/yago/Organism100004475> (Organism100004475, None), <http://dbpedia.org/class/yago/WikicatAfrican-AmericanNon-fictionWriters> (WikicatAfrican-AmericanNon-fictionWriters, None), <http://schema.org/Person> (Person, None), <http://dbpedia.org/class/yago/YagoLegalActorGeo> (YagoLegalActorGeo, None), <http://dbpedia.org/class/yago/YagoLegalActor> (YagoLegalActor, None), <http://dbpedia.org/class/yago/WikicatDemocraticPartyUnitedStatesSenators> (WikicatDemocraticPartyUnitedStatesSenators, None), <http://dbpedia.org/class/yago/WikicatAmericanPeopleOfSwissDescent> (WikicatAmericanPeopleOfSwissDescent, None), <http://dbpedia.org/class/yago/WikicatAmericanPeopleOfKenyanDescent> (WikicatAmericanPeopleOfKenyanDescent, None), <http://dbpedia.org/class/yago/WikicatAmericanPeopleOfLuoDescent> (WikicatAmericanPeopleOfLuoDescent, None), <http://dbpedia.org/class/yago/WikicatAmericanPeopleOfWelshDescent> (WikicatAmericanPeopleOfWelshDescent, None), <http://dbpedia.org/class/yago/Laureate110249011> (Laureate110249011, None), <http://dbpedia.org/class/yago/WikicatAfrican-AmericanUnitedStatesSenators> (WikicatAfrican-AmericanUnitedStatesSenators, None), <http://dbpedia.org/class/yago/WikicatOccidentalCollegeAlumni> (WikicatOccidentalCollegeAlumni, None), <http://dbpedia.org/class/yago/WikicatNobelPeacePrizeLaureates> (WikicatNobelPeacePrizeLaureates, None), <http://dbpedia.org/class/yago/AdministrativeDistrict108491826> (AdministrativeDistrict108491826, None), <http://dbpedia.org/class/yago/President110467179> (President110467179, None), <http://dbpedia.org/class/yago/HeadOfState110164747> (HeadOfState110164747, None), <http://dbpedia.org/class/yago/Representative110522035> (Representative110522035, None), <http://dbpedia.org/class/yago/Recipient109627906> (Recipient109627906, None), <http://dbpedia.org/class/yago/Acquirer109764201> (Acquirer109764201, None), <http://dbpedia.org/class/yago/Negotiator110351874> (Negotiator110351874, None), <http://dbpedia.org/class/yago/WikicatPunahouSchoolAlumni> (WikicatPunahouSchoolAlumni, None), <http://dbpedia.org/class/yago/Honoree110183757> (Honoree110183757, None), <http://dbpedia.org/class/yago/WikicatAmericanPeopleOfBritishDescent> (WikicatAmericanPeopleOfBritishDescent, None), <http://dbpedia.org/class/yago/WikicatAmericanMaleWriters> (WikicatAmericanMaleWriters, None), <http://dbpedia.org/class/yago/WikicatAmericanNobelLaureates> (WikicatAmericanNobelLaureates, None), <http://umbel.org/umbel/rc/Politician> (Politician, None), <http://umbel.org/umbel/rc/PresidentOfOrganization> (PresidentOfOrganization, None), <http://dbpedia.org/class/yago/WikicatAmericanPeopleOfHuguenotDescent> (WikicatAmericanPeopleOfHuguenotDescent, None), <http://dbpedia.org/class/yago/Municipality108626283> (Municipality108626283, None), <http://dbpedia.org/class/yago/UrbanArea108675967> (UrbanArea108675967, None), <http://dbpedia.org/class/yago/Communicator109610660> (Communicator109610660, None), <http://dbpedia.org/class/yago/Writer110794014> (Writer110794014, None), <http://dbpedia.org/class/yago/WikicatPoliticiansFromChicago,Illinois> (WikicatPoliticiansFromChicago,Illinois, None), <http://dbpedia.org/class/yago/WikicatIllinoisStateSenators> (WikicatIllinoisStateSenators, None), <http://dbpedia.org/class/yago/WikicatAmericanLawyers> (WikicatAmericanLawyers, None), <http://dbpedia.org/class/yago/StateSenator110650076> (StateSenator110650076, None), <http://dbpedia.org/class/yago/Legislator110253995> (Legislator110253995, None), <http://dbpedia.org/class/yago/Senator110578471> (Senator110578471, None), <http://dbpedia.org/class/yago/Lawgiver110249270> (Lawgiver110249270, None), <http://dbpedia.org/class/yago/Politician110451263> (Politician110451263, None), <http://dbpedia.org/class/yago/WikicatAmericanCivilRightsLawyers> (WikicatAmericanCivilRightsLawyers, None), <http://dbpedia.org/class/yago/WikicatAfrican-AmericanLawyers> (WikicatAfrican-AmericanLawyers, None), <http://dbpedia.org/class/yago/WikicatUnitedStatesSenatorsFromIllinois> (WikicatUnitedStatesSenatorsFromIllinois, None), <http://xmlns.com/foaf/0.1/Person> (Person, None), <http://dbpedia.org/class/yago/SkilledWorker110605985> (SkilledWorker110605985, None), <http://dbpedia.org/class/yago/Worker109632518> (Worker109632518, None), <http://dbpedia.org/class/yago/WikicatAfrican-AmericanAcademics> (WikicatAfrican-AmericanAcademics, None), <http://dbpedia.org/class/yago/WikicatPresidentsOfTheUnitedStates> (WikicatPresidentsOfTheUnitedStates, None), <http://dbpedia.org/class/yago/City108524735> (City108524735, None), <http://dbpedia.org/class/yago/WikicatIllinoisLawyers> (WikicatIllinoisLawyers, None), <http://dbpedia.org/class/yago/WikicatAmericanLegalScholars> (WikicatAmericanLegalScholars, None), <http://dbpedia.org/class/yago/WikicatAmericanPeople> (WikicatAmericanPeople, None), <http://www.w3.org/2002/07/owl#Thing> (Thing, None), <http://dbpedia.org/class/yago/WikicatConvertsToChristianity> (WikicatConvertsToChristianity, None), <http://dbpedia.org/class/yago/Wikicat21st-centuryScholars> (Wikicat21st-centuryScholars, None), <http://dbpedia.org/class/yago/Convert109962414> (Convert109962414, None), <http://dbpedia.org/class/yago/Wikicat20th-centuryScholars> (Wikicat20th-centuryScholars, None), <http://dbpedia.org/class/yago/WikicatAmericanPoliticians> (WikicatAmericanPoliticians, None), <http://dbpedia.org/class/yago/WikicatDemocraticPartyPresidentsOfTheUnitedStates> (WikicatDemocraticPartyPresidentsOfTheUnitedStates, None), <http://dbpedia.org/class/yago/WikicatHarvardLawSchoolAlumni> (WikicatHarvardLawSchoolAlumni, None), <http://dbpedia.org/class/yago/Official110372373> (Official110372373, None), <http://dbpedia.org/class/yago/Politician110450303> (Politician110450303, None), <http://dbpedia.org/class/yago/Lawyer110249950> (Lawyer110249950, None), <http://dbpedia.org/class/yago/Professional110480253> (Professional110480253, None), <http://dbpedia.org/ontology/Politician> (Politician, None), <http://dbpedia.org/class/yago/PhysicalEntity100001930> (PhysicalEntity100001930, None), <http://dbpedia.org/class/yago/YagoPermanentlyLocatedEntity> (YagoPermanentlyLocatedEntity, None), <http://dbpedia.org/class/yago/YagoGeoEntity> (YagoGeoEntity, None), <http://dbpedia.org/class/yago/Officeholder110371450> (Officeholder110371450, None), <http://dbpedia.org/class/yago/Holder110180178> (Holder110180178, None), <http://dbpedia.org/class/yago/Owner110389398> (Owner110389398, None), <http://dbpedia.org/class/yago/Object100002684> (Object100002684, None), <http://dbpedia.org/class/yago/Whole100003553> (Whole100003553, None), <http://dbpedia.org/class/yago/WikicatAmericanPeopleOfEnglishDescent> (WikicatAmericanPeopleOfEnglishDescent, None), <http://dbpedia.org/class/yago/WikicatAmericanActivists> (WikicatAmericanActivists, None), <http://dbpedia.org/ontology/OfficeHolder> (OfficeHolder, None), <http://dbpedia.org/class/yago/WikicatCitiesInJapan> (WikicatCitiesInJapan, None), <http://dbpedia.org/class/yago/Militant110315837> (Militant110315837, None), <http://dbpedia.org/class/yago/WikicatPortCities> (WikicatPortCities, None), <http://dbpedia.org/class/yago/Adult109605289> (Adult109605289, None), <http://dbpedia.org/class/yago/Wikicat21st-centuryAmericanWriters> (Wikicat21st-centuryAmericanWriters, None), <http://dbpedia.org/class/yago/Wikicat20th-centuryAmericanWriters> (Wikicat20th-centuryAmericanWriters, None), <http://dbpedia.org/class/yago/WikicatLGBTRightsActivistsFromTheUnitedStates> (WikicatLGBTRightsActivistsFromTheUnitedStates, None), <http://dbpedia.org/class/yago/WikicatAmericanPeopleOfIrishDescent> (WikicatAmericanPeopleOfIrishDescent, None), <http://dbpedia.org/class/yago/Academician109759069> (Academician109759069, None), <http://dbpedia.org/class/yago/Educator110045713> (Educator110045713, None), <http://dbpedia.org/class/yago/WikicatColumbiaUniversityAlumni> (WikicatColumbiaUniversityAlumni, None), <http://www.wikidata.org/entity/Q82955> (Q82955, None), <http://www.ontologydesignpatterns.org/ont/dul/DUL.owl#NaturalPerson> (NaturalPerson, None), <http://dbpedia.org/class/yago/Leader109623038> (Leader109623038, None), <http://www.wikidata.org/entity/Q19088> (Q19088, None), <http://www.wikidata.org/entity/Q215627> (Q215627, None), <http://www.wikidata.org/entity/Q5> (Q5, None), <http://www.wikidata.org/entity/Q729> (Q729, None), <http://dbpedia.org/class/yago/Reformer110515194> (Reformer110515194, None), <http://dbpedia.org/class/yago/Disputant109615465> (Disputant109615465, None), <http://dbpedia.org/class/yago/WikicatAfrican-AmericanPoliticians> (WikicatAfrican-AmericanPoliticians, None), <http://dbpedia.org/class/yago/WikicatWritersFromChicago,Illinois> (WikicatWritersFromChicago,Illinois, None), <http://dbpedia.org/class/yago/GeographicalArea108574314> (GeographicalArea108574314, None), <http://dbpedia.org/class/yago/Region108630985> (Region108630985, None), <http://dbpedia.org/class/yago/Location100027167> (Location100027167, None), <http://dbpedia.org/class/yago/District108552138> (District108552138, None), <http://dbpedia.org/class/yago/WikicatPeopleFromHonolulu,Hawaii> (WikicatPeopleFromHonolulu,Hawaii, None), <http://dbpedia.org/class/yago/WikicatPeopleFromHawaii> (WikicatPeopleFromHawaii, None), <http://dbpedia.org/class/yago/WikicatCitiesInFukuiPrefecture> (WikicatCitiesInFukuiPrefecture, None), <http://dbpedia.org/class/yago/WikicatPresidentsOfTheUnitedNationsSecurityCouncil> (WikicatPresidentsOfTheUnitedNationsSecurityCouncil, None), <http://dbpedia.org/class/yago/Opposition110379620> (Opposition110379620, None), <http://dbpedia.org/class/yago/WikicatInternationalOpponentsOfApartheidInSouthAfrica> (WikicatInternationalOpponentsOfApartheidInSouthAfrica, None), <http://dbpedia.org/class/yago/WikicatAmericanPeopleOfScottishDescent> (WikicatAmericanPeopleOfScottishDescent, None), <http://dbpedia.org/class/yago/WikicatAmericanPoliticalWriters> (WikicatAmericanPoliticalWriters, None), <http://dbpedia.org/class/yago/WikicatHarvardUniversityAlumni> (WikicatHarvardUniversityAlumni, None), <http://dbpedia.org/class/yago/Scholar110557854> (Scholar110557854, None), <http://dbpedia.org/class/yago/Intellectual109621545> (Intellectual109621545, None), <http://dbpedia.org/class/yago/Alumnus109786338> (Alumnus109786338, None), <http://dbpedia.org/class/yago/Contestant109613191> (Contestant109613191, None)\\nThe RDF graph supports the following relationships:\\n<http://dbpedia.org/ontology/wikiPageWikiLink> (wikiPageWikiLink, None), <http://dbpedia.org/property/president> (president, None), <http://dbpedia.org/property/afterElection> (afterElection, None), <http://dbpedia.org/ontology/child> (child, None), <http://dbpedia.org/property/signedpresident> (signedpresident, None), <http://dbpedia.org/ontology/president> (president, None), <http://www.w3.org/2002/07/owl#sameAs> (sameAs, None), <http://www.w3.org/2000/01/rdf-schema#label> (label, None), <http://dbpedia.org/property/candidate> (candidate, None), <http://www.w3.org/2000/01/rdf-schema#comment> (comment, None), <http://dbpedia.org/property/nominee> (nominee, None), <http://dbpedia.org/property/years> (years, None), <http://dbpedia.org/property/appointer> (appointer, None), <http://dbpedia.org/property/notableStudents> (notableStudents, None), <http://dbpedia.org/ontology/wikiPageRedirects> (wikiPageRedirects, None), <http://dbpedia.org/ontology/appointer> (appointer, None), <http://dbpedia.org/property/beforeElection> (beforeElection, None), <http://www.w3.org/2000/01/rdf-schema#seeAlso> (seeAlso, None), <http://dbpedia.org/property/wikiPageUsesTemplate> (wikiPageUsesTemplate, None), <http://dbpedia.org/property/governmentHead> (governmentHead, None), <http://dbpedia.org/property/nominator> (nominator, None), <http://dbpedia.org/property/submitter> (submitter, None), <http://dbpedia.org/property/author> (author, None), <http://dbpedia.org/property/altOfficeholder> (altOfficeholder, None), <http://dbpedia.org/property/almaMater> (almaMater, None), <http://dbpedia.org/ontology/commander> (commander, None), <http://dbpedia.org/property/subject> (subject, None), <http://dbpedia.org/property/caption> (caption, None), <http://www.w3.org/1999/02/22-rdf-syntax-ns#type> (type, None), <http://dbpedia.org/ontology/wikiPageExternalLink> (wikiPageExternalLink, None), <http://purl.org/dc/terms/subject> (subject, None), <http://dbpedia.org/property/1namedata> (1namedata, None), <http://xmlns.com/foaf/0.1/depiction> (depiction, None), <http://dbpedia.org/ontology/almaMater> (almaMater, None), <http://dbpedia.org/ontology/author> (author, None), <http://dbpedia.org/property/title> (title, None), <http://dbpedia.org/property/after> (after, None), <http://dbpedia.org/ontology/affiliation> (affiliation, None), <http://dbpedia.org/property/officiallyOpenedBy> (officiallyOpenedBy, None), <http://dbpedia.org/property/termStart> (termStart, None), <http://dbpedia.org/property/participants> (participants, None), <http://dbpedia.org/ontology/signature> (signature, None), <http://dbpedia.org/property/stateSenate> (stateSenate, None), <http://dbpedia.org/property/founders> (founders, None), <http://dbpedia.org/ontology/starring> (starring, None), <http://dbpedia.org/ontology/abstract> (abstract, None), <http://dbpedia.org/ontology/education> (education, None), <http://dbpedia.org/property/name> (name, None), <http://dbpedia.org/property/successor> (successor, None), <http://dbpedia.org/ontology/relation> (relation, None), <http://dbpedia.org/ontology/nonFictionSubject> (nonFictionSubject, None), <http://dbpedia.org/property/residence> (residence, None), <http://dbpedia.org/property/children> (children, None), <http://dbpedia.org/property/signatureAlt> (signatureAlt, None), <http://dbpedia.org/property/before> (before, None), <http://dbpedia.org/ontology/wikiPageLength> (wikiPageLength, None), <http://dbpedia.org/property/predecessor> (predecessor, None), <http://dbpedia.org/ontology/termPeriod> (termPeriod, None), <http://dbpedia.org/property/vicepresident> (vicepresident, None), <http://dbpedia.org/ontology/writer> (writer, None), <http://dbpedia.org/ontology/predecessor> (predecessor, None), <http://dbpedia.org/property/termEnd> (termEnd, None), <http://dbpedia.org/ontology/party> (party, None), <http://dbpedia.org/property/birthPlace> (birthPlace, None), <http://dbpedia.org/ontology/imdbId> (imdbId, None), <http://dbpedia.org/property/sponsors> (sponsors, None), <http://dbpedia.org/property/website> (website, None), <http://dbpedia.org/property/relatives> (relatives, None), <http://dbpedia.org/property/aux> (aux, None), <http://dbpedia.org/ontology/wikiPageDisambiguates> (wikiPageDisambiguates, None), <http://dbpedia.org/property/stateHead> (stateHead, None), <http://dbpedia.org/ontology/executiveProducer> (executiveProducer, None), <http://dbpedia.org/property/video> (video, None), <http://dbpedia.org/ontology/relative> (relative, None), <http://dbpedia.org/property/wordnet_type> (wordnet_type, None), <http://dbpedia.org/ontology/birthName> (birthName, None), <http://dbpedia.org/property/sSearch> (sSearch, None), <http://dbpedia.org/property/spouse> (spouse, None), <http://dbpedia.org/property/signer> (signer, None), <http://dbpedia.org/ontology/knownFor> (knownFor, None), <http://dbpedia.org/property/vetoedpresident> (vetoedpresident, None), <http://dbpedia.org/property/speakers> (speakers, None), <http://dbpedia.org/property/appointed> (appointed, None), <http://dbpedia.org/property/nSearch> (nSearch, None), <http://dbpedia.org/property/starring> (starring, None), <http://dbpedia.org/property/writer> (writer, None), <http://dbpedia.org/ontology/award> (award, None), <http://dbpedia.org/ontology/spouse> (spouse, None), <http://dbpedia.org/property/alongside> (alongside, None), <http://dbpedia.org/ontology/wikiPageRevisionID> (wikiPageRevisionID, None), <http://dbpedia.org/ontology/foundedBy> (foundedBy, None), <http://dbpedia.org/property/parents> (parents, None), <http://dbpedia.org/property/occupation> (occupation, None), <http://dbpedia.org/property/relations> (relations, None), <http://dbpedia.org/property/wiktSearch> (wiktSearch, None), <http://dbpedia.org/property/presidents> (presidents, None), <http://dbpedia.org/property/wikt> (wikt, None), <http://dbpedia.org/property/office> (office, None), <http://purl.org/linguistics/gold/hypernym> (hypernym, None), <http://dbpedia.org/ontology/birthPlace> (birthPlace, None), <http://dbpedia.org/property/holder> (holder, None), <http://dbpedia.org/property/congresses> (congresses, None), <http://dbpedia.org/ontology/parent> (parent, None), <http://dbpedia.org/property/affiliations> (affiliations, None), <http://dbpedia.org/property/commons> (commons, None), <http://dbpedia.org/property/viaf> (viaf, None), <http://dbpedia.org/property/2namedata> (2namedata, None), <http://dbpedia.org/property/presenter> (presenter, None), <http://dbpedia.org/property/signature> (signature, None), <http://dbpedia.org/property/education> (education, None), <http://dbpedia.org/property/state> (state, None), <http://dbpedia.org/ontology/residence> (residence, None), <http://dbpedia.org/property/q> (q, None), <http://dbpedia.org/ontology/birthDate> (birthDate, None), <http://dbpedia.org/property/district> (district, None), <http://dbpedia.org/property/cand> (cand, None), <http://dbpedia.org/property/host> (host, None), <http://dbpedia.org/property/order> (order, None), <http://dbpedia.org/property/subjects> (subjects, None), <http://dbpedia.org/ontology/successor> (successor, None), <http://dbpedia.org/property/party> (party, None), <http://dbpedia.org/property/s> (s, None), <http://dbpedia.org/property/namesake> (namesake, None), <http://dbpedia.org/property/n> (n, None), <http://dbpedia.org/property/jr/sr> (sr, None), <http://dbpedia.org/property/leader> (leader, None), <http://dbpedia.org/property/birthDate> (birthDate, None), <http://dbpedia.org/property/as> (as, None), <http://xmlns.com/foaf/0.1/isPrimaryTopicOf> (isPrimaryTopicOf, None), <http://dbpedia.org/ontology/wikiPageID> (wikiPageID, None), <http://xmlns.com/foaf/0.1/primaryTopic> (primaryTopic, None), <http://dbpedia.org/property/d> (d, None), <http://dbpedia.org/property/coalition> (coalition, None), <http://dbpedia.org/property/founder> (founder, None), <http://dbpedia.org/property/principal> (principal, None), <http://dbpedia.org/property/awards> (awards, None), <http://dbpedia.org/property/opened> (opened, None), <http://dbpedia.org/property/onlinebooks> (onlinebooks, None), <http://dbpedia.org/ontology/thumbnail> (thumbnail, None), <http://dbpedia.org/ontology/leader> (leader, None), <http://dbpedia.org/property/float> (float, None), <http://dbpedia.org/property/id> (id, None), <http://dbpedia.org/property/birthName> (birthName, None), <http://dbpedia.org/ontology/presenter> (presenter, None), <http://schema.org/sameAs> (sameAs, None), <http://dbpedia.org/ontology/principal> (principal, None), <http://www.w3.org/ns/prov#wasDerivedFrom> (wasDerivedFrom, None), <http://dbpedia.org/property/alt> (alt, None), <http://dbpedia.org/property/by> (by, None), <http://dbpedia.org/property/cabinet> (cabinet, None)\\n'"
      ]
     },
     "execution_count": 2,
     "metadata": {},
     "output_type": "execute_result"
    }
   ],
   "source": [
    "graph = RdfGraph(\n",
    "    source_file=\"https://dbpedia.org/data/Barack_Obama.ttl\",\n",
    "    standard=\"rdf\",\n",
    "    local_copy=\"test.ttl\",\n",
    ")\n",
    "\n",
    "graph.load_schema()\n",
    "\n",
    "graph.get_schema"
   ]
  },
  {
   "cell_type": "code",
   "execution_count": 3,
   "metadata": {},
   "outputs": [],
   "source": [
    "if \"OPENAI_API_KEY\" not in os.environ:\n",
    "    os.environ[\"OPENAI_API_KEY\"] = ''"
   ]
  },
  {
   "cell_type": "code",
   "execution_count": 4,
   "metadata": {},
   "outputs": [
    {
     "name": "stderr",
     "output_type": "stream",
     "text": [
      "/Users/abhisheknadgeri/Desktop/tutorial/entity linker/qachain.py:112: LangChainDeprecationWarning: The class `LLMChain` was deprecated in LangChain 0.1.17 and will be removed in 1.0. Use :meth:`~RunnableSequence, e.g., `prompt | llm`` instead.\n",
      "  qa_chain = LLMChain(llm=llm, prompt=qa_prompt)\n"
     ]
    }
   ],
   "source": [
    "chain = GraphSparqlQAChain.from_llm(\n",
    "    ChatOpenAI(temperature=0), graph=graph, verbose=True, allow_dangerous_requests=True\n",
    ")"
   ]
  },
  {
   "cell_type": "code",
   "execution_count": 5,
   "metadata": {},
   "outputs": [
    {
     "name": "stdout",
     "output_type": "stream",
     "text": [
      "ADDITIONAL INSTRUCTION: When you make the final query, remove these ``` quotes and only have the query, donot inlcude the word QUERY \n",
      "QUERY: where was Barak Obama born?\n",
      "\n",
      "\n",
      "\u001b[1m> Entering new GraphSparqlQAChain chain...\u001b[0m\n"
     ]
    },
    {
     "name": "stderr",
     "output_type": "stream",
     "text": [
      "/var/folders/06/3r0trr8s5n76_b4zyr7d67qr0000gn/T/ipykernel_82610/1863695637.py:5: LangChainDeprecationWarning: The method `Chain.run` was deprecated in langchain 0.1.0 and will be removed in 1.0. Use :meth:`~invoke` instead.\n",
      "  print(chain.run(prompt))\n"
     ]
    },
    {
     "name": "stdout",
     "output_type": "stream",
     "text": [
      "Identified intent:\n",
      "\u001b[32;1m\u001b[1;3mSELECT\u001b[0m\n",
      "NEW SCHEMA:  ENTITIES: [{'URI': 'http://www.wikidata.org/entity/Q76', 'about': 'Barack Obama - president of the United States from 2009 to 2017'}, {'URI': 'http://www.wikidata.org/entity/Q76', 'about': 'Barack Obama - president of the United States from 2009 to 2017'}, {'URI': 'http://www.wikidata.org/entity/Q21822172', 'about': ''}]\n",
      "RELATIONS: [{'URI': 'http://www.wikidata.org/entity/P19', 'about': 'place of birth - most specific known birth location of a person, animal or fictional character'}, {'URI': 'http://www.wikidata.org/entity/P1464', 'about': 'category for people born here - category item that groups people born in this place'}, {'URI': 'http://www.wikidata.org/entity/P569', 'about': 'date of birth - date on which the subject was born'}]\n",
      "Generated SPARQL:\n",
      "\u001b[32;1m\u001b[1;3mPREFIX wd: <http://www.wikidata.org/entity/>\n",
      "PREFIX wdt: <http://www.wikidata.org/prop/direct/>\n",
      "PREFIX wikibase: <http://wikiba.se/ontology#>\n",
      "SELECT ?placeOfBirthLabel\n",
      "WHERE {\n",
      "    wd:Q76 wdt:P19 ?placeOfBirth .\n",
      "    SERVICE wikibase:label {\n",
      "        bd:serviceParam wikibase:language \"[AUTO_LANGUAGE],en\"\n",
      "    }\n",
      "}\u001b[0m\n",
      "data >>>  {'head': {'vars': ['placeOfBirthLabel']}, 'results': {'bindings': [{'placeOfBirthLabel': {'xml:lang': 'en', 'type': 'literal', 'value': 'Kapiolani Medical Center for Women and Children'}}]}}\n",
      "Full Context:\n",
      "\u001b[32;1m\u001b[1;3m['Kapiolani Medical Center for Women and Children']\u001b[0m\n"
     ]
    },
    {
     "name": "stderr",
     "output_type": "stream",
     "text": [
      "/Users/abhisheknadgeri/Desktop/tutorial/entity linker/qachain.py:188: LangChainDeprecationWarning: The method `Chain.__call__` was deprecated in langchain 0.1.0 and will be removed in 1.0. Use :meth:`~invoke` instead.\n",
      "  result = self.qa_chain(\n"
     ]
    },
    {
     "name": "stdout",
     "output_type": "stream",
     "text": [
      "\n",
      "\u001b[1m> Finished chain.\u001b[0m\n",
      "Barak Obama was born at Kapiolani Medical Center for Women and Children.\n"
     ]
    }
   ],
   "source": [
    "instruction = \"ADDITIONAL INSTRUCTION: When you make the final query, remove these ``` quotes and only have the query, donot inlcude the word QUERY \\n\"\n",
    "query = \"QUERY: where was Barak Obama born?\"\n",
    "prompt = instruction + query\n",
    "print(prompt)\n",
    "print(chain.run(prompt))"
   ]
  },
  {
   "cell_type": "code",
   "execution_count": 5,
   "metadata": {},
   "outputs": [
    {
     "name": "stdout",
     "output_type": "stream",
     "text": [
      "ADDITIONAL INSTRUCTION: When you make the final query, remove these ``` quotes and only have the query, donot inlcude the word QUERY \n",
      "QUERY:Name all children of Barak Obama?\n",
      "\n",
      "\n",
      "\u001b[1m> Entering new GraphSparqlQAChain chain...\u001b[0m\n"
     ]
    },
    {
     "name": "stderr",
     "output_type": "stream",
     "text": [
      "/var/folders/06/3r0trr8s5n76_b4zyr7d67qr0000gn/T/ipykernel_82084/1080740779.py:5: LangChainDeprecationWarning: The method `Chain.run` was deprecated in langchain 0.1.0 and will be removed in 1.0. Use :meth:`~invoke` instead.\n",
      "  print(chain.run(prompt))\n"
     ]
    },
    {
     "name": "stdout",
     "output_type": "stream",
     "text": [
      "Identified intent:\n",
      "\u001b[32;1m\u001b[1;3mSELECT\u001b[0m\n",
      "NEW SCHEMA:  ENTITIES: [{'URI': 'http://www.wikidata.org/entity/Q76', 'about': 'Barack Obama - president of the United States from 2009 to 2017'}, {'URI': 'http://www.wikidata.org/entity/Q76', 'about': 'Barack Obama - president of the United States from 2009 to 2017'}, {'URI': 'http://www.wikidata.org/entity/Q21822172', 'about': ''}]\n",
      "RELATIONS: [{'URI': 'http://www.wikidata.org/entity/P40', 'about': 'child - subject has object as child. Do not use for stepchildren—use \"relative\" (P1038), qualified with \"type of kinship\" (P1039)'}, {'URI': 'http://www.wikidata.org/entity/P2451', 'about': 'MAME ROM name - name of Multiple Arcade Machine Emulator ROM for a software release'}, {'URI': 'http://www.wikidata.org/entity/P1971', 'about': 'number of children - number of children of the person, animal, or character'}]\n",
      "Generated SPARQL:\n",
      "\u001b[32;1m\u001b[1;3mPREFIX wd: <http://www.wikidata.org/entity/>\n",
      "PREFIX wdt: <http://www.wikidata.org/prop/direct/>\n",
      "PREFIX wikibase: <http://wikiba.se/ontology#>\n",
      "SELECT ?child ?childLabel\n",
      "WHERE {\n",
      "    wd:Q76 wdt:P40 ?child .\n",
      "    SERVICE wikibase:label {\n",
      "        bd:serviceParam wikibase:language \"[AUTO_LANGUAGE],en\"\n",
      "    }\n",
      "}\u001b[0m\n",
      "Full Context:\n",
      "\u001b[32;1m\u001b[1;3m['Malia Obama', 'Sasha Obama']\u001b[0m\n"
     ]
    },
    {
     "name": "stderr",
     "output_type": "stream",
     "text": [
      "/Users/abhisheknadgeri/Desktop/tutorial/entity linker/qachain.py:188: LangChainDeprecationWarning: The method `Chain.__call__` was deprecated in langchain 0.1.0 and will be removed in 1.0. Use :meth:`~invoke` instead.\n",
      "  result = self.qa_chain(\n"
     ]
    },
    {
     "name": "stdout",
     "output_type": "stream",
     "text": [
      "\n",
      "\u001b[1m> Finished chain.\u001b[0m\n",
      "The children of Barack Obama are Malia Obama and Sasha Obama.\n"
     ]
    }
   ],
   "source": [
    "instruction = \"ADDITIONAL INSTRUCTION: When you make the final query, remove these ``` quotes and only have the query, donot inlcude the word QUERY \\n\"\n",
    "query = \"QUERY:Name all children of Barak Obama?\"\n",
    "prompt = instruction + query\n",
    "print(prompt)\n",
    "print(chain.run(prompt))"
   ]
  },
  {
   "cell_type": "code",
   "execution_count": 9,
   "metadata": {},
   "outputs": [
    {
     "name": "stdout",
     "output_type": "stream",
     "text": [
      "ADDITIONAL INSTRUCTION: When you make the final query, remove these ``` quotes and only have the query and donot include the word QUERY\n",
      "QUERY: What is the capital of France?\n",
      "\n",
      "\n",
      "\u001b[1m> Entering new GraphSparqlQAChain chain...\u001b[0m\n",
      "Identified intent:\n",
      "\u001b[32;1m\u001b[1;3mSELECT\u001b[0m\n",
      "NEW SCHEMA:  ENTITIES: [{'URI': 'http://www.wikidata.org/entity/Q69323', 'about': 'French constitutional monarchy - Constitutional monarchy of France (1791–1792)'}, {'URI': 'http://www.wikidata.org/entity/Q47774', 'about': \"France men's national association football team - national association football team representing France\"}, {'URI': 'http://www.wikidata.org/entity/Q47774', 'about': \"France men's national association football team - national association football team representing France\"}]\n",
      "RELATIONS: [{'URI': 'http://www.wikidata.org/entity/P36', 'about': 'capital - seat of government of a country, province, state or other type of administrative territorial entity'}, {'URI': 'http://www.wikidata.org/entity/P1376', 'about': 'capital of - country, state, department, canton or other administrative division of which the municipality is the governmental seat'}, {'URI': 'http://www.wikidata.org/entity/P8247', 'about': 'nominal share capital - total of the nominal values of the issued ordinary and preference shares of the entity'}]\n",
      "Generated SPARQL:\n",
      "\u001b[32;1m\u001b[1;3mPREFIX wd: <http://www.wikidata.org/entity/>\n",
      "PREFIX wdt: <http://www.wikidata.org/prop/direct/>\n",
      "PREFIX wikibase: <http://wikiba.se/ontology#>\n",
      "SELECT ?capital ?capitalLabel\n",
      "WHERE {\n",
      "    wd:Q69323 wdt:P36 ?capital .  \n",
      "    SERVICE wikibase:label {                  \n",
      "      bd:serviceParam wikibase:language \"[AUTO_LANGUAGE],en\"\n",
      "    }\n",
      "}\u001b[0m\n",
      "Full Context:\n",
      "\u001b[32;1m\u001b[1;3m['Paris']\u001b[0m\n",
      "\n",
      "\u001b[1m> Finished chain.\u001b[0m\n",
      "The capital of France is Paris.\n"
     ]
    }
   ],
   "source": [
    "instruction = \"ADDITIONAL INSTRUCTION: When you make the final query, remove these ``` quotes and only have the query and donot include the word QUERY\\n\"\n",
    "query = \"QUERY: What is the capital of France?\"\n",
    "prompt = instruction + query\n",
    "print(prompt)\n",
    "print(chain.run(prompt))"
   ]
  },
  {
   "cell_type": "code",
   "execution_count": 14,
   "metadata": {},
   "outputs": [
    {
     "name": "stdout",
     "output_type": "stream",
     "text": [
      "ADDITIONAL INSTRUCTION: When you make the final query, remove these ``` quotes and only have the query \n",
      "QUERY: What religion do Jewish people practice?\n",
      "\n",
      "\n",
      "\u001b[1m> Entering new GraphSparqlQAChain chain...\u001b[0m\n",
      "Identified intent:\n",
      "\u001b[32;1m\u001b[1;3mSELECT\u001b[0m\n",
      "NEW SCHEMA:  ENTITIES: [{'URI': 'http://www.wikidata.org/entity/Q7325', 'about': 'Jewish people - ethnoreligious group and nation from the Levant'}, {'URI': 'http://www.wikidata.org/entity/Q9268', 'about': 'Judaism - Abrahamic monotheistic ethnic religion of the Jews'}, {'URI': 'http://www.wikidata.org/entity/Q7325', 'about': 'Jewish people - ethnoreligious group and nation from the Levant'}]\n",
      "RELATIONS: [{'URI': 'http://www.wikidata.org/entity/P3095', 'about': 'practiced by - type of agents that study this subject or work in this field'}, {'URI': 'http://www.wikidata.org/entity/P425', 'about': 'field of this occupation - field corresponding to this occupation or profession (use only for occupations/professions - for people use Property:P101, for companies use P452)'}, {'URI': 'http://www.wikidata.org/entity/P2914', 'about': 'MSBI person ID - identifier of a person, in the Mapping the Practice and Profession of Sculpture in Britain and Ireland database'}, {'URI': 'http://www.wikidata.org/entity/P140', 'about': 'religion or worldview - religion of a person, organization or religious building, or associated with this subject'}, {'URI': 'http://www.wikidata.org/entity/P276', 'about': 'location - location of the object, structure or event. In the case of an administrative entity as containing item use P131. For statistical entities use P8138. In the case of a geographic entity use P706. Use P7153 for locations associated with the object'}, {'URI': 'http://www.wikidata.org/entity/P131', 'about': 'located in the administrative territorial entity - the item is located on the territory of the following administrative entity. Use P276 for specifying locations that are non-administrative places and for items about events. Use P1382 if the item falls only partially into the administrative entity.'}]\n",
      "Generated SPARQL:\n",
      "\u001b[32;1m\u001b[1;3mPREFIX wd: <http://www.wikidata.org/entity/>\n",
      "PREFIX wdt: <http://www.wikidata.org/prop/direct/>\n",
      "PREFIX wikibase: <http://wikiba.se/ontology#>\n",
      "SELECT ?religion ?religionLabel\n",
      "WHERE {\n",
      "    wd:Q7325 wdt:P140 ?religion .  \n",
      "    SERVICE wikibase:label {                  \n",
      "      bd:serviceParam wikibase:language \"[AUTO_LANGUAGE],en\"  \n",
      "    }\n",
      "}\u001b[0m\n",
      "Full Context:\n",
      "\u001b[32;1m\u001b[1;3m['Judaism']\u001b[0m\n",
      "\n",
      "\u001b[1m> Finished chain.\u001b[0m\n",
      "Jewish people practice Judaism.\n"
     ]
    }
   ],
   "source": [
    "instruction = \"ADDITIONAL INSTRUCTION: When you make the final query, remove these ``` quotes and only have the query \\n\"\n",
    "query = \"QUERY: What religion do Jewish people practice?\"\n",
    "prompt = instruction + query\n",
    "print(prompt)\n",
    "print(chain.run(prompt))"
   ]
  },
  {
   "cell_type": "code",
   "execution_count": 16,
   "metadata": {},
   "outputs": [
    {
     "name": "stdout",
     "output_type": "stream",
     "text": [
      "ADDITIONAL INSTRUCTION: When you make the final query, remove these ``` quotes and only have the query \n",
      "QUERY: Who is Prince George of Cambridge's parents?\n",
      "\n",
      "\n",
      "\u001b[1m> Entering new GraphSparqlQAChain chain...\u001b[0m\n",
      "Identified intent:\n",
      "\u001b[32;1m\u001b[1;3mSELECT\u001b[0m\n",
      "NEW SCHEMA:  ENTITIES: [{'URI': 'http://www.wikidata.org/entity/Q13590412', 'about': 'Prince George of Wales - British prince, child of William, Prince of Wales, and Catherine, Princess of Wales (born 2013)'}, {'URI': 'http://www.wikidata.org/entity/Q5', 'about': 'human - any member of Homo sapiens, unique extant species of the genus Homo, from embryo to adult'}]\n",
      "RELATIONS: [{'URI': 'http://www.wikidata.org/entity/P22', 'about': 'father - male parent of the subject. For stepfather, use \"stepparent\" (P3448)'}, {'URI': 'http://www.wikidata.org/entity/P171', 'about': 'parent taxon - closest parent taxon of the taxon in question'}, {'URI': 'http://www.wikidata.org/entity/P749', 'about': 'parent organization - parent organization of an organization, opposite of subsidiaries (P355)'}]\n",
      "Generated SPARQL:\n",
      "\u001b[32;1m\u001b[1;3mPREFIX wd: <http://www.wikidata.org/entity/>\n",
      "PREFIX wdt: <http://www.wikidata.org/prop/direct/>\n",
      "PREFIX wikibase: <http://wikiba.se/ontology#>\n",
      "SELECT ?father ?fatherLabel ?mother ?motherLabel\n",
      "WHERE {\n",
      "    wd:Q13590412 wdt:P22 ?father .\n",
      "    wd:Q13590412 wdt:P25 ?mother .\n",
      "    SERVICE wikibase:label {\n",
      "        bd:serviceParam wikibase:language \"[AUTO_LANGUAGE],en\"\n",
      "    }\n",
      "}\u001b[0m\n",
      "Full Context:\n",
      "\u001b[32;1m\u001b[1;3m['William, Prince of Wales']\u001b[0m\n",
      "\n",
      "\u001b[1m> Finished chain.\u001b[0m\n",
      "William, Prince of Wales is the parent of Prince George of Cambridge.\n"
     ]
    }
   ],
   "source": [
    "instruction = \"ADDITIONAL INSTRUCTION: When you make the final query, remove these ``` quotes and only have the query \\n\"\n",
    "query = \"QUERY: Who is Prince George of Cambridge's parents?\"\n",
    "prompt = instruction + query\n",
    "print(prompt)\n",
    "print(chain.run(prompt))"
   ]
  },
  {
   "cell_type": "code",
   "execution_count": 6,
   "metadata": {},
   "outputs": [
    {
     "name": "stdout",
     "output_type": "stream",
     "text": [
      "ADDITIONAL INSTRUCTION: When you make the final query, remove these ``` quotes and only have the query \n",
      "QUERY: What countries are within the European Union?\n",
      "\n",
      "\n",
      "\u001b[1m> Entering new GraphSparqlQAChain chain...\u001b[0m\n",
      "Identified intent:\n",
      "\u001b[32;1m\u001b[1;3mSELECT\u001b[0m\n",
      "NEW SCHEMA:  ENTITIES: [{'URI': 'http://www.wikidata.org/entity/Q39731', 'about': 'Baltic states - 3 countries east of the Baltic Sea (Estonia, Latvia, Lithuania)'}, {'URI': 'http://www.wikidata.org/entity/Q6256', 'about': 'country - distinct territorial body or political entity'}, {'URI': 'http://www.wikidata.org/entity/Q104724460', 'about': 'Russian peripheral countries : Borrowing of foreign countries, individual countries - folder of the 20th Century Press Archives'}, {'URI': 'http://www.wikidata.org/entity/Q458', 'about': 'European Union - political and economic union of 27 European states'}, {'URI': 'http://www.wikidata.org/entity/Q319328', 'about': 'European Union - antifascist resistance group'}, {'URI': 'http://www.wikidata.org/entity/Q806733', 'about': 'European Union banking union - european politic'}]\n",
      "RELATIONS: [{'URI': 'http://www.wikidata.org/entity/P150', 'about': 'contains the administrative territorial entity - (list of) direct subdivisions of an administrative territorial entity'}, {'URI': 'http://www.wikidata.org/entity/P31', 'about': 'instance of - that class of which this subject is a particular example and member; different from P279 (subclass of); for example: K2 is an instance of mountain; volcano is a subclass of mountain (and an instance of volcanic landform)'}]\n",
      "Generated SPARQL:\n",
      "\u001b[32;1m\u001b[1;3mSELECT ?country ?countryLabel\n",
      "WHERE {\n",
      "  wd:Q458 wdt:P150 ?country .\n",
      "  ?country wdt:P31 wd:Q6256 .\n",
      "  SERVICE wikibase:label { bd:serviceParam wikibase:language \"[AUTO_LANGUAGE],en\" }\n",
      "}\u001b[0m\n",
      "Full Context:\n",
      "\u001b[32;1m\u001b[1;3m['Ireland', 'Hungary', 'Spain', 'Belgium', 'Luxembourg', 'Finland', 'Sweden', 'Denmark', 'Poland', 'Lithuania', 'Italy', 'Greece', 'Portugal', 'France', 'Germany', 'Estonia', 'Latvia', 'Czech Republic', 'Slovakia', 'Slovenia', 'Romania', 'Bulgaria', 'Croatia', 'Cyprus', 'Malta', 'Kingdom of the Netherlands']\u001b[0m\n",
      "\n",
      "\u001b[1m> Finished chain.\u001b[0m\n",
      "The countries within the European Union are Ireland, Hungary, Spain, Belgium, Luxembourg, Finland, Sweden, Denmark, Poland, Lithuania, Italy, Greece, Portugal, France, Germany, Estonia, Latvia, Czech Republic, Slovakia, Slovenia, Romania, Bulgaria, Croatia, Cyprus, Malta, and the Kingdom of the Netherlands.\n"
     ]
    }
   ],
   "source": [
    "instruction = \"ADDITIONAL INSTRUCTION: When you make the final query, remove these ``` quotes and only have the query \\n\"\n",
    "query = \"QUERY: What countries are within the European Union?\"\n",
    "prompt = instruction + query\n",
    "print(prompt)\n",
    "print(chain.run(prompt))\n"
   ]
  },
  {
   "cell_type": "code",
   "execution_count": 18,
   "metadata": {},
   "outputs": [
    {
     "name": "stdout",
     "output_type": "stream",
     "text": [
      "ADDITIONAL INSTRUCTION: When you make the final query, remove these ``` quotes and only have the query \n",
      "QUERY: Which are the city that shares a border with LA?\n",
      "\n",
      "\n",
      "\u001b[1m> Entering new GraphSparqlQAChain chain...\u001b[0m\n",
      "Identified intent:\n",
      "\u001b[32;1m\u001b[1;3mSELECT\u001b[0m\n",
      "NEW SCHEMA:  ENTITIES: [{'URI': 'http://www.wikidata.org/entity/Q65', 'about': 'Los Angeles - largest city in California, United States of America'}, {'URI': 'http://www.wikidata.org/entity/Q65', 'about': 'Los Angeles - largest city in California, United States of America'}, {'URI': 'http://www.wikidata.org/entity/Q819', 'about': 'Laos - country in Southeast Asia'}]\n",
      "RELATIONS: [{'URI': 'http://www.wikidata.org/entity/P47', 'about': 'shares border with - countries or administrative subdivisions, of equal level, that this item borders, either by land or water. A single common point is enough.'}, {'URI': 'http://www.wikidata.org/entity/P150', 'about': 'contains the administrative territorial entity - (list of) direct subdivisions of an administrative territorial entity'}, {'URI': 'http://www.wikidata.org/entity/P4070', 'about': 'identifier shared with - qualifier, to be used on external identifier IDs, indicating another Wikidata item is also matched to this ID'}, {'URI': 'http://www.wikidata.org/entity/P131', 'about': 'located in the administrative territorial entity - the item is located on the territory of the following administrative entity. Use P276 for specifying locations that are non-administrative places and for items about events. Use P1382 if the item falls only partially into the administrative entity.'}, {'URI': 'http://www.wikidata.org/entity/P19', 'about': 'place of birth - most specific known birth location of a person, animal or fictional character'}, {'URI': 'http://www.wikidata.org/entity/P36', 'about': 'capital - seat of government of a country, province, state or other type of administrative territorial entity'}, {'URI': 'http://www.wikidata.org/entity/P47', 'about': 'shares border with - countries or administrative subdivisions, of equal level, that this item borders, either by land or water. A single common point is enough.'}, {'URI': 'http://www.wikidata.org/entity/P4777', 'about': \"has boundary - element that's on the two dimensional border that surrounds the subject; the limit of an entity\"}, {'URI': 'http://www.wikidata.org/entity/P1545', 'about': 'series ordinal - position of an item in its parent series (most frequently a 1-based index), generally to be used as a qualifier (different from \"rank\" defined as a class, and from \"ranking\" defined as a property for evaluating a quality).'}]\n",
      "Generated SPARQL:\n",
      "\u001b[32;1m\u001b[1;3mPREFIX wd: <http://www.wikidata.org/entity/>\n",
      "PREFIX wdt: <http://www.wikidata.org/prop/direct/>\n",
      "PREFIX wikibase: <http://wikiba.se/ontology#>\n",
      "SELECT ?borderCity ?borderCityLabel ?borderCityDescription\n",
      "WHERE {\n",
      "    wd:Q65 wdt:P47 ?borderCity .  \n",
      "    SERVICE wikibase:label {\n",
      "      bd:serviceParam wikibase:language \"[AUTO_LANGUAGE],en\"\n",
      "    }\n",
      "}\u001b[0m\n",
      "Full Context:\n",
      "\u001b[32;1m\u001b[1;3m['Long Beach', 'Burbank', 'Santa Monica', 'Beverly Hills', 'San Pedro', 'Pasadena', 'Glendale', 'Compton', 'Monterey', 'Torrance', 'Culver City', 'Carson', 'Inglewood', 'Calabasas', 'West Carson', 'Montebello', 'East Los Angeles', 'Alhambra', 'San Fernando', 'Gardena', 'West Hollywood', 'Lynwood', 'Huntington Park', 'South Pasadena', 'Hidden Hills', 'Monterey Park', 'Vernon', 'El Segundo', 'Lomita', 'West Athens', 'Willowbrook', 'Westmont', 'Ladera Heights']\u001b[0m\n",
      "\n",
      "\u001b[1m> Finished chain.\u001b[0m\n",
      "The cities that share a border with Los Angeles are Long Beach, Burbank, Santa Monica, Beverly Hills, San Pedro, Pasadena, Glendale, Compton, Monterey, Torrance, Culver City, Carson, Inglewood, Calabasas, West Carson, Montebello, East Los Angeles, Alhambra, San Fernando, Gardena, West Hollywood, Lynwood, Huntington Park, South Pasadena, Hidden Hills, Monterey Park, Vernon, El Segundo, Lomita, West Athens, Willowbrook, Westmont, and Ladera Heights.\n"
     ]
    }
   ],
   "source": [
    "instruction = \"ADDITIONAL INSTRUCTION: When you make the final query, remove these ``` quotes and only have the query \\n\"\n",
    "query = \"QUERY: Which are the city that shares a border with LA?\"\n",
    "prompt = instruction + query\n",
    "print(prompt)\n",
    "print(chain.run(prompt))"
   ]
  },
  {
   "cell_type": "code",
   "execution_count": 31,
   "metadata": {},
   "outputs": [
    {
     "name": "stdout",
     "output_type": "stream",
     "text": [
      "ADDITIONAL INSTRUCTION: When you make the final query, remove these ``` quotes and only have the query \n",
      "QUERY:  which sport does Magnus Carlsen play?\n",
      "\n",
      "\n",
      "\u001b[1m> Entering new GraphSparqlQAChain chain...\u001b[0m\n",
      "Identified intent:\n",
      "\u001b[32;1m\u001b[1;3mSELECT\u001b[0m\n",
      "NEW SCHEMA:  ENTITIES: [{'URI': 'http://www.wikidata.org/entity/Q106807', 'about': 'Magnus Carlsen - Norwegian chess player'}, {'URI': 'http://www.wikidata.org/entity/Q96317035', 'about': 'Magnus Carlsen Tour - series of elite chess tournaments in 2020'}, {'URI': 'http://www.wikidata.org/entity/Q91019133', 'about': 'Magnus Carlsen Invitational - 2020 online chess tournament'}]\n",
      "RELATIONS: [{'URI': 'http://www.wikidata.org/entity/P54', 'about': 'member of sports team - sports teams or clubs that the subject represents or represented'}, {'URI': 'http://www.wikidata.org/entity/P641', 'about': 'sport - sport that the subject participates or participated in or is associated with'}, {'URI': 'http://www.wikidata.org/entity/P1813', 'about': 'short name - short name of a place, organisation, person, journal, wikidata property, etc. Used by some Wikipedia templates.'}]\n",
      "Generated SPARQL:\n",
      "\u001b[32;1m\u001b[1;3mPREFIX wd: <http://www.wikidata.org/entity/>\n",
      "PREFIX wdt: <http://www.wikidata.org/prop/direct/>\n",
      "PREFIX wikibase: <http://wikiba.se/ontology#>\n",
      "SELECT ?sport ?sportLabel\n",
      "WHERE {\n",
      "    wd:Q106807 wdt:P641 ?sport .\n",
      "    SERVICE wikibase:label {\n",
      "        bd:serviceParam wikibase:language \"[AUTO_LANGUAGE],en\"\n",
      "    }\n",
      "}\u001b[0m\n",
      "Full Context:\n",
      "\u001b[32;1m\u001b[1;3m['chess']\u001b[0m\n",
      "\n",
      "\u001b[1m> Finished chain.\u001b[0m\n",
      "Magnus Carlsen plays chess.\n"
     ]
    }
   ],
   "source": [
    "instruction = \"ADDITIONAL INSTRUCTION: When you make the final query, remove these ``` quotes and only have the query \\n\"\n",
    "query = \"QUERY:  which sport does Magnus Carlsen play?\"\n",
    "prompt = instruction + query\n",
    "print(prompt)\n",
    "print(chain.run(prompt))"
   ]
  },
  {
   "cell_type": "code",
   "execution_count": 27,
   "metadata": {},
   "outputs": [
    {
     "name": "stdout",
     "output_type": "stream",
     "text": [
      "ADDITIONAL INSTRUCTION: When you make the final query, remove these ``` quotes and only have the query \n",
      "QUERY:  Who is the architect they used for the White House?\n",
      "\n",
      "\n",
      "\u001b[1m> Entering new GraphSparqlQAChain chain...\u001b[0m\n",
      "Identified intent:\n",
      "\u001b[32;1m\u001b[1;3mSELECT\u001b[0m\n",
      "NEW SCHEMA:  ENTITIES: [{'URI': 'http://www.wikidata.org/entity/Q35525', 'about': 'White House - official residence and office of the President of the United States'}, {'URI': 'http://www.wikidata.org/entity/Q1355327', 'about': 'Executive Office of the President of the United States - U.S. federal government office of the president of the United States'}, {'URI': 'http://www.wikidata.org/entity/Q35525', 'about': 'White House - official residence and office of the President of the United States'}]\n",
      "RELATIONS: [{'URI': 'http://www.wikidata.org/entity/P84', 'about': 'architect - person or architectural firm responsible for designing this building'}, {'URI': 'http://www.wikidata.org/entity/P7514', 'about': 'landscape architect - person or architectural firm that designed this outdoor area, possibly including landmarks and structures'}, {'URI': 'http://www.wikidata.org/entity/P3058', 'about': 'Architectuurgids architect ID - identifier for an architect in the Dutch architectuurgids.nl database'}]\n",
      "Generated SPARQL:\n",
      "\u001b[32;1m\u001b[1;3mPREFIX wd: <http://www.wikidata.org/entity/>\n",
      "PREFIX wdt: <http://www.wikidata.org/prop/direct/>\n",
      "PREFIX wikibase: <http://wikiba.se/ontology#>\n",
      "SELECT ?architect ?architectLabel ?architectDescription\n",
      "WHERE {\n",
      "    wd:Q35525 wdt:P84 ?architect .\n",
      "    SERVICE wikibase:label {\n",
      "        bd:serviceParam wikibase:language \"[AUTO_LANGUAGE],en\"\n",
      "    }\n",
      "}\u001b[0m\n",
      "Full Context:\n",
      "\u001b[32;1m\u001b[1;3m['James Hoban']\u001b[0m\n",
      "\n",
      "\u001b[1m> Finished chain.\u001b[0m\n",
      "The architect they used for the White House is James Hoban.\n"
     ]
    }
   ],
   "source": [
    "instruction = \"ADDITIONAL INSTRUCTION: When you make the final query, remove these ``` quotes and only have the query \\n\"\n",
    "query = \"QUERY:  Who is the architect they used for the White House?\"\n",
    "prompt = instruction + query\n",
    "print(prompt)\n",
    "print(chain.run(prompt))"
   ]
  },
  {
   "cell_type": "code",
   "execution_count": 31,
   "metadata": {},
   "outputs": [
    {
     "name": "stdout",
     "output_type": "stream",
     "text": [
      "ADDITIONAL INSTRUCTION: When you make the final query, remove these ``` quotes and only have the query \n",
      "QUERY:  Which feast celebrates resurrection of Jesus ?\n",
      "\n",
      "\n",
      "\u001b[1m> Entering new GraphSparqlQAChain chain...\u001b[0m\n",
      "Identified intent:\n",
      "\u001b[32;1m\u001b[1;3mSELECT\u001b[0m\n",
      "NEW SCHEMA:  ENTITIES: [{'URI': 'http://www.wikidata.org/entity/Q51624', 'about': 'Resurrection of Jesus - event in the Christian faith, Gospel episode represented in the cycle of the Passion of Christ Central teaching of Christianity; Luke 24:1-11'}, {'URI': 'http://www.wikidata.org/entity/Q1825417', 'about': 'moveable feast - observance in a liturgical calendar with no fixed calendar date'}]\n",
      "RELATIONS: [{'URI': 'http://www.wikidata.org/entity/P547', 'about': 'commemorates - what the place, monument, memorial, or holiday, commemorates'}]\n",
      "Generated SPARQL:\n",
      "\u001b[32;1m\u001b[1;3mSELECT ?commemorates ?commemoratesLabel ?commemoratesDescription\n",
      "WHERE {\n",
      "    wd:Q51624 wdt:P547 ?commemorates .\n",
      "    SERVICE wikibase:label {\n",
      "        bd:serviceParam wikibase:language \"[AUTO_LANGUAGE],en\"\n",
      "    }\n",
      "}\u001b[0m\n",
      "Full Context:\n",
      "\u001b[32;1m\u001b[1;3m[]\u001b[0m\n",
      "\n",
      "\u001b[1m> Finished chain.\u001b[0m\n",
      "The feast that celebrates the resurrection of Jesus is Easter.\n"
     ]
    }
   ],
   "source": [
    "instruction = \"ADDITIONAL INSTRUCTION: When you make the final query, remove these ``` quotes and only have the query \\n\"\n",
    "query = \"QUERY:  Which feast celebrates resurrection of Jesus ?\"\n",
    "prompt = instruction + query\n",
    "print(prompt)\n",
    "print(chain.run(prompt))"
   ]
  },
  {
   "cell_type": "code",
   "execution_count": 8,
   "metadata": {},
   "outputs": [
    {
     "name": "stdout",
     "output_type": "stream",
     "text": [
      "ADDITIONAL INSTRUCTION: When you make the final query, remove these ``` quotes and only have the query \n",
      "QUERY: Is the number of blank votes in the Rio Grande municipal election, 2016 for Councillor equal to 7170?\n",
      "\n",
      "\n",
      "\u001b[1m> Entering new GraphSparqlQAChain chain...\u001b[0m\n",
      "Identified intent:\n",
      "\u001b[32;1m\u001b[1;3mSELECT\u001b[0m\n",
      "NEW SCHEMA:  ENTITIES: [{'URI': 'http://www.wikidata.org/entity/Q61868538', 'about': 'Rio Grande municipal election, 2016 for Councillor - Brazilian municipal election for the position of councillor of Rio Grande, Rio Grande do Sul in 2016'}]\n",
      "RELATIONS: [{'URI': 'http://www.wikidata.org/entity/P1697', 'about': 'total valid votes - vote count for the elections (excluding invalid votes)'}, {'URI': 'http://www.wikidata.org/entity/P5044', 'about': 'number of spoilt votes - number of spoilt votes in a voting round for a specfic position in a election (excluding blank votes; use P5045 instead)'}, {'URI': 'http://www.wikidata.org/entity/P1111', 'about': 'votes received - qualifier stating the number of votes for a candidate in an election'}]\n",
      "Generated SPARQL:\n",
      "\u001b[32;1m\u001b[1;3mPREFIX wd: <http://www.wikidata.org/entity/>\n",
      "PREFIX wdt: <http://www.wikidata.org/prop/direct/>\n",
      "PREFIX wikibase: <http://wikiba.se/ontology#>\n",
      "SELECT ?blankVotes ?blankVotesLabel\n",
      "WHERE {\n",
      "    wd:Q61868538 wdt:P5044 ?blankVotes .\n",
      "    SERVICE wikibase:label {\n",
      "        bd:serviceParam wikibase:language \"[AUTO_LANGUAGE],en\"\n",
      "    }\n",
      "}\u001b[0m\n",
      "data >>>  {'head': {'vars': ['blankVotes', 'blankVotesLabel']}, 'results': {'bindings': [{'blankVotes': {'datatype': 'http://www.w3.org/2001/XMLSchema#decimal', 'type': 'literal', 'value': '6557'}, 'blankVotesLabel': {'type': 'literal', 'value': '6557'}}]}}\n",
      "Full Context:\n",
      "\u001b[32;1m\u001b[1;3m['6557']\u001b[0m\n",
      "\n",
      "\u001b[1m> Finished chain.\u001b[0m\n",
      "No, the number of blank votes in the Rio Grande municipal election, 2016 for Councillor is not equal to 7170. The actual number is 6557.\n"
     ]
    }
   ],
   "source": [
    "instruction = \"ADDITIONAL INSTRUCTION: When you make the final query, remove these ``` quotes and only have the query \\n\"\n",
    "query = \"QUERY: Is the number of blank votes in the Rio Grande municipal election, 2016 for Councillor equal to 7170?\"\n",
    "prompt = instruction + query\n",
    "print(prompt)\n",
    "print(chain.run(prompt))"
   ]
  },
  {
   "cell_type": "code",
   "execution_count": 14,
   "metadata": {},
   "outputs": [
    {
     "name": "stdout",
     "output_type": "stream",
     "text": [
      "ADDITIONAL INSTRUCTION: When you make the final query, remove these ``` quotes and only have the query \n",
      "QUERY: Is the wheelbase of the LuAZ-967 equal to 1800?\n",
      "\n",
      "\n",
      "\u001b[1m> Entering new GraphSparqlQAChain chain...\u001b[0m\n",
      "Identified intent:\n",
      "\u001b[32;1m\u001b[1;3mSELECT\u001b[0m\n",
      "NEW SCHEMA:  ENTITIES: [{'URI': 'http://www.wikidata.org/entity/Q323194', 'about': 'LuAZ-967 - type of 4x4 amphibious cargo'}, {'URI': 'http://www.wikidata.org/entity/Q67313851', 'about': 'Use of the LUAZ-967 medical personnel carriers under winter conditions - scientific article published on 01 February 1978'}, {'URI': 'http://www.wikidata.org/entity/Q6875', 'about': '1800 - year'}, {'URI': 'http://www.wikidata.org/entity/Q13634668', 'about': '1800 - natural number'}, {'URI': 'http://www.wikidata.org/entity/Q1070981', 'about': 'Chevrolet 1800 - series of cars'}]\n",
      "RELATIONS: [{'URI': 'http://www.wikidata.org/entity/P3039', 'about': 'wheelbase - horizontal distance between the centers of the front and rear wheels'}]\n",
      "Generated SPARQL:\n",
      "\u001b[32;1m\u001b[1;3mPREFIX wd: <http://www.wikidata.org/entity/>\n",
      "PREFIX wdt: <http://www.wikidata.org/prop/direct/>\n",
      "PREFIX wikibase: <http://wikiba.se/ontology#>\n",
      "ASK WHERE { wd:Q323194 wdt:P3039 ?obj filter(?obj = 1800) } \u001b[0m\n",
      "data >>>  {'head': {}, 'boolean': True}\n",
      "Full Context:\n",
      "\u001b[32;1m\u001b[1;3mTrue\u001b[0m\n",
      "\n",
      "\u001b[1m> Finished chain.\u001b[0m\n",
      "Yes, the wheelbase of the LuAZ-967 is equal to 1800.\n"
     ]
    }
   ],
   "source": [
    "instruction = \"ADDITIONAL INSTRUCTION: When you make the final query, remove these ``` quotes and only have the query \\n\"\n",
    "query = \"QUERY: Is the wheelbase of the LuAZ-967 equal to 1800?\"\n",
    "prompt = instruction + query\n",
    "print(prompt)\n",
    "print(chain.run(prompt))"
   ]
  },
  {
   "cell_type": "code",
   "execution_count": 15,
   "metadata": {},
   "outputs": [
    {
     "name": "stdout",
     "output_type": "stream",
     "text": [
      "ADDITIONAL INSTRUCTION: When you make the final query, remove these ``` quotes and only have the query \n",
      "QUERY: Is the Gini coefficient of France equal to 23.936?\n",
      "\n",
      "\n",
      "\u001b[1m> Entering new GraphSparqlQAChain chain...\u001b[0m\n",
      "Identified intent:\n",
      "\u001b[32;1m\u001b[1;3mSELECT\u001b[0m\n",
      "NEW SCHEMA:  ENTITIES: [{'URI': 'http://www.wikidata.org/entity/Q142', 'about': 'France - country in Western Europe'}]\n",
      "RELATIONS: [{'URI': 'http://www.wikidata.org/entity/P1125', 'about': \"Gini coefficient - measure of statistical dispersion intended to represent the income distribution of a nation's residents\"}, {'URI': 'http://www.wikidata.org/entity/P5992', 'about': 'attenuation coefficient - Characterizes how easily a volume of a material can be penetrated by a beam of light, sound, particles, or other energy or matter. Beam type is to be secified using P1013.'}, {'URI': 'http://www.wikidata.org/entity/P6497', 'about': 'drag coefficient - dimensionless quantity that is used to quantify the drag or resistance of an object in a fluid environment, such as air or water'}]\n",
      "Generated SPARQL:\n",
      "\u001b[32;1m\u001b[1;3mPREFIX wd: <http://www.wikidata.org/entity/>\n",
      "PREFIX wdt: <http://www.wikidata.org/prop/direct/>\n",
      "PREFIX wikibase: <http://wikiba.se/ontology#>\n",
      "ASK WHERE { wd:Q142 wdt:P1125 ?obj filter(?obj = 23.936) } \n",
      "\u001b[0m\n",
      "data >>>  {'head': {}, 'boolean': False}\n",
      "Full Context:\n",
      "\u001b[32;1m\u001b[1;3mFalse\u001b[0m\n",
      "\n",
      "\u001b[1m> Finished chain.\u001b[0m\n",
      "The statement \"False\" indicates that the Gini coefficient of France is not equal to 23.936.\n"
     ]
    }
   ],
   "source": [
    "instruction = \"ADDITIONAL INSTRUCTION: When you make the final query, remove these ``` quotes and only have the query \\n\"\n",
    "query = \"QUERY: Is the Gini coefficient of France equal to 23.936?\"\n",
    "prompt = instruction + query\n",
    "print(prompt)\n",
    "print(chain.run(prompt))"
   ]
  },
  {
   "cell_type": "code",
   "execution_count": null,
   "metadata": {},
   "outputs": [],
   "source": []
  }
 ],
 "metadata": {
  "kernelspec": {
   "display_name": "base",
   "language": "python",
   "name": "python3"
  },
  "language_info": {
   "codemirror_mode": {
    "name": "ipython",
    "version": 3
   },
   "file_extension": ".py",
   "mimetype": "text/x-python",
   "name": "python",
   "nbconvert_exporter": "python",
   "pygments_lexer": "ipython3",
   "version": "3.9.5"
  }
 },
 "nbformat": 4,
 "nbformat_minor": 2
}
